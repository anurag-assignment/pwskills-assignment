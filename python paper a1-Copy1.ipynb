{
 "cells": [
  {
   "cell_type": "code",
   "execution_count": null,
   "id": "22592d1f-0f91-4376-81b0-3a8054b83c52",
   "metadata": {},
   "outputs": [],
   "source": [
    " NAME -ANURAG  PWSKILLS .COM\n",
    "PYTHON PAPER1                                # ASSIGNMENT1\n",
    "                    # THEORITICAL PART"
   ]
  },
  {
   "cell_type": "raw",
   "id": "39da67d2-6be1-48d1-a9f4-435c37363cde",
   "metadata": {},
   "source": [
    "\n",
    "q1 what is python and why is it popular?"
   ]
  },
  {
   "cell_type": "raw",
   "id": "b67d7387-40a6-42c0-a626-bd54bfbceeba",
   "metadata": {},
   "source": [
    "ans- python is high level, interpreted  programming language known for its simpilicity and readability. it is popular because"
   ]
  },
  {
   "cell_type": "raw",
   "id": "84e01e9d-15ba-4fbb-9a3e-9467e36efea7",
   "metadata": {},
   "source": [
    "1 easy syntax.\n",
    "2 huge liberary support.\n",
    "3used in many feilds like DA,DS,automation, ml , development etc. "
   ]
  },
  {
   "cell_type": "raw",
   "id": "98537b3e-0e72-4bb2-9685-ab67bb2d691c",
   "metadata": {},
   "source": [
    "q2 what is an interpreter in python?"
   ]
  },
  {
   "cell_type": "raw",
   "id": "37042754-d218-4d8b-9991-5ba132e8a704",
   "metadata": {},
   "source": [
    "\n",
    "ans - an interpreter is a programe that executes python code line by line . it converts high level code into machine code at run time,\n",
    "allowig immediate exeution and debugging."
   ]
  },
  {
   "cell_type": "raw",
   "id": "e9887162-24f0-4c43-9d2e-6df997af703d",
   "metadata": {},
   "source": [
    "q3 what are the pre defined keywords in python?"
   ]
  },
  {
   "cell_type": "raw",
   "id": "ab633d99-b9b6-446e-a05e-06eca321ef63",
   "metadata": {},
   "source": [
    "ans- Reserved keywords in python which user cannot uses as a variable are pre defined keywords eg.- for, while, print, else elif, \n",
    "class etc."
   ]
  },
  {
   "cell_type": "raw",
   "id": "d96ee98c-1200-4c95-94e8-6ef7445748b7",
   "metadata": {},
   "source": [
    "q4 can keywords be used as a variable name?"
   ]
  },
  {
   "cell_type": "raw",
   "id": "6512ac9f-30f3-4f25-91aa-fa2ec857616c",
   "metadata": {},
   "source": [
    "ans- no keywords cannot be used as a variable name in most programming language ."
   ]
  },
  {
   "cell_type": "raw",
   "id": "75a5887f-95dd-4ffc-9fb1-64edb4b362ff",
   "metadata": {},
   "source": [
    "q5 what is mutability in python?"
   ]
  },
  {
   "cell_type": "raw",
   "id": "e2a7dfab-1c87-493e-958e-97dda64fd0af",
   "metadata": {},
   "source": [
    "ans- mutability means weather an object can be changed after its creation eg- list , dictionary andset are mutable."
   ]
  },
  {
   "cell_type": "raw",
   "id": "1585a369-2825-40a8-93f1-bca4614d4ba3",
   "metadata": {},
   "source": [
    "q6 why are list mutable but tuples are immutable?"
   ]
  },
  {
   "cell_type": "raw",
   "id": "8aa228cf-ef68-44e4-8db3-2cde4e7440e1",
   "metadata": {},
   "source": [
    "ans- list ar designed for flexible data which can grow shrink  and made  changes \n",
    "while, tuples are designed to use fixed data which can improve performance and safety thats why list are mutable but tuples are immutable"
   ]
  },
  {
   "cell_type": "raw",
   "id": "365bc811-31f1-4407-8523-7014b61b3761",
   "metadata": {},
   "source": [
    "q7 what is differeence between \"==\" and \"is\" opreator in pyhton"
   ]
  },
  {
   "cell_type": "raw",
   "id": "2b3a20a4-d994-47c2-9634-ce044a507936",
   "metadata": {},
   "source": [
    "ans- \"==\" are used for check equeality while\n",
    "\"is\" opreator is used for checking memory eg. if a==9:-> check if a is equeal to9."
   ]
  },
  {
   "cell_type": "code",
   "execution_count": null,
   "id": "40d5d6ee-dc0f-434d-8e29-84b3b2bdd757",
   "metadata": {},
   "outputs": [],
   "source": [
    "q8 what are logical opreator in pyhton?"
   ]
  },
  {
   "cell_type": "raw",
   "id": "2e46b0e9-f794-4785-ad07-8044e3206d8e",
   "metadata": {},
   "source": [
    "ans- logical opreators are used in python to combine a conditional statement eg. AND, OR, NOT. "
   ]
  },
  {
   "cell_type": "raw",
   "id": "3745df7d-c1ba-4369-b4d4-946b52f5e1ec",
   "metadata": {},
   "source": [
    "q9 what is typecasting in python?"
   ]
  },
  {
   "cell_type": "raw",
   "id": "f436dedf-d044-4e9e-a9c3-114d11865ab9",
   "metadata": {},
   "source": [
    "ans- typecasting in python means converting data type of one variable into onather ."
   ]
  },
  {
   "cell_type": "raw",
   "id": "856a42fa-a171-4cb0-8628-73a77ba3c79b",
   "metadata": {},
   "source": [
    "q10 what is difference between implicit and explicit typecasting?"
   ]
  },
  {
   "cell_type": "raw",
   "id": "d760be42-fbd1-46c4-b9b7-92597abf1f5a",
   "metadata": {},
   "source": [
    "ans- implicit typecasting. when python convert data type internally then it is known as implicit typecasting.\n",
    "explicit typecating- when user converts datatype exterally using int(), float(),str()and float() then it is known as explicit typecasting."
   ]
  },
  {
   "cell_type": "raw",
   "id": "997142d5-7a7f-4eee-9ccc-6ba051647e9c",
   "metadata": {},
   "source": [
    "q11 what is the purpose of conditional statement in python?"
   ]
  },
  {
   "cell_type": "raw",
   "id": "64aa7005-b8d8-41c5-b286-48a7698856f7",
   "metadata": {},
   "source": [
    "ans- the purpose of conditional statement in pyhton is to control the flow of program based on condition."
   ]
  },
  {
   "cell_type": "raw",
   "id": "0cabbb57-30f9-4bb1-923e-57e3acd57933",
   "metadata": {},
   "source": [
    "q12 how does elif statement work?"
   ]
  },
  {
   "cell_type": "raw",
   "id": "6f720680-bb78-47d3-99d6-5ed8a2e2ef76",
   "metadata": {},
   "source": [
    "ans- 1) elif statement is the condition affter the first if when the perivious condition is false"
   ]
  },
  {
   "cell_type": "raw",
   "id": "ebb519ef-166d-43e2-8f87-1c2cc3afc876",
   "metadata": {},
   "source": [
    "2) if(): statement()-elif():statement()-else: statement()"
   ]
  },
  {
   "cell_type": "raw",
   "id": "9fd4ce35-2607-49f9-9bb0-f2b21fbfce42",
   "metadata": {},
   "source": [
    "q13 what is the difference between  for and while loop?"
   ]
  },
  {
   "cell_type": "raw",
   "id": "1c8ba555-e25a-49e0-ad30-94bafefae411",
   "metadata": {},
   "source": [
    "ans- FOR- when we know the exact number of iteration.\n",
    "WHILE- when the loop should continue based on a condition.."
   ]
  },
  {
   "cell_type": "raw",
   "id": "744febea-c4cc-49c0-b31d-baae13a5232a",
   "metadata": {},
   "source": [
    "q14. describe a scenario where a while loop is more suitable than a for loop?"
   ]
  },
  {
   "cell_type": "code",
   "execution_count": null,
   "id": "04f50340-97ca-41a2-a8f8-1017b43c4f75",
   "metadata": {},
   "outputs": [],
   "source": [
    "ans- we use while loop when we dont know how many iteration or loop the statement will require."
   ]
  },
  {
   "cell_type": "code",
   "execution_count": null,
   "id": "56836925-aa7a-4205-8ff6-0445c713bc87",
   "metadata": {},
   "outputs": [],
   "source": [
    "                                         # coding praticals"
   ]
  },
  {
   "cell_type": "raw",
   "id": "df43eab1-a792-464b-8ddd-1b062c5d3f8c",
   "metadata": {},
   "source": [
    "q1    write a python program to print \"hello world\"?"
   ]
  },
  {
   "cell_type": "code",
   "execution_count": 1,
   "id": "223b1b70-707c-42ed-b596-fb5e3c46f201",
   "metadata": {},
   "outputs": [
    {
     "name": "stdout",
     "output_type": "stream",
     "text": [
      "hello world!\n"
     ]
    }
   ],
   "source": [
    "print(\"hello world!\")"
   ]
  },
  {
   "cell_type": "raw",
   "id": "706501e4-bcb0-4b73-bce6-d94b1de74676",
   "metadata": {},
   "source": [
    "q2   write a python program that displays your name and age?"
   ]
  },
  {
   "cell_type": "code",
   "execution_count": 2,
   "id": "ddcd0d94-5787-408c-a1c9-58192439f432",
   "metadata": {},
   "outputs": [
    {
     "name": "stdout",
     "output_type": "stream",
     "text": [
      "name: anurag\n",
      "age: 22\n"
     ]
    }
   ],
   "source": [
    "name=\"anurag\"\n",
    "age=\"22\"\n",
    "print(\"name:\",name)\n",
    "print(\"age:\",age)"
   ]
  },
  {
   "cell_type": "raw",
   "id": "26f4ed4b-5d13-4d2d-8e63-16806cdf5bf1",
   "metadata": {},
   "source": [
    "q3  write a code to print all the pre defined keywords in python using the keyword liberary?"
   ]
  },
  {
   "cell_type": "code",
   "execution_count": 1,
   "id": "2b8b4026-5b8f-4f73-a8f3-356004cfbe3e",
   "metadata": {},
   "outputs": [
    {
     "name": "stdout",
     "output_type": "stream",
     "text": [
      "Python Keywords:\n",
      "False\n",
      "None\n",
      "True\n",
      "and\n",
      "as\n",
      "assert\n",
      "async\n",
      "await\n",
      "break\n",
      "class\n",
      "continue\n",
      "def\n",
      "del\n",
      "elif\n",
      "else\n",
      "except\n",
      "finally\n",
      "for\n",
      "from\n",
      "global\n",
      "if\n",
      "import\n",
      "in\n",
      "is\n",
      "lambda\n",
      "nonlocal\n",
      "not\n",
      "or\n",
      "pass\n",
      "raise\n",
      "return\n",
      "try\n",
      "while\n",
      "with\n",
      "yield\n"
     ]
    }
   ],
   "source": [
    "import keyword\n",
    "\n",
    "# Print all predefined keywords in Python\n",
    "print(\"Python Keywords:\")\n",
    "for kw in keyword.kwlist:\n",
    "    print(kw)"
   ]
  },
  {
   "cell_type": "raw",
   "id": "7c2b620b-48e8-45d5-8748-8be551051596",
   "metadata": {},
   "source": [
    "q4  write a programe that check if a given word is python keyword?"
   ]
  },
  {
   "cell_type": "code",
   "execution_count": 2,
   "id": "ef9a5ad2-e8c5-4e37-8bfc-525f98cb958d",
   "metadata": {},
   "outputs": [
    {
     "name": "stdin",
     "output_type": "stream",
     "text": [
      "enter the word: else\n"
     ]
    },
    {
     "name": "stdout",
     "output_type": "stream",
     "text": [
      "yes given word is keyword: else\n"
     ]
    }
   ],
   "source": [
    "import keyword\n",
    "\n",
    "# Input word to check\n",
    "word = input(\"Enter a word to check if it's a Python keyword: \")\n",
    "\n",
    "# Check if the word is a keyword\n",
    "if keyword.iskeyword(word):\n",
    "    print(f\"'{word}' is a Python keyword.\")\n",
    "else:\n",
    "    print(f\"'{word}' is NOT a Python keyword.\")"
   ]
  },
  {
   "cell_type": "raw",
   "id": "e34c87e8-a02e-4407-a167-c546ee346d5c",
   "metadata": {},
   "source": [
    "q5  create a list and tuple in python, and demonstrate how attempting to change an element works differently for each?"
   ]
  },
  {
   "cell_type": "code",
   "execution_count": 8,
   "id": "1c43eae5-6a8f-45ed-9ab7-e82d0ebf415b",
   "metadata": {},
   "outputs": [
    {
     "name": "stdout",
     "output_type": "stream",
     "text": [
      "origial list: [1, 2, 3]\n",
      "modified list: [1, 4, 3]\n"
     ]
    }
   ],
   "source": [
    "# Creating a list and a tuple\n",
    "my_list = [10, 20, 30]\n",
    "my_tuple = (10, 20, 30)\n",
    "\n",
    "# Attempting to change an element in the list\n",
    "my_list[1] = 99  # This works because lists are mutable\n",
    "print(\"Modified List:\", my_list)\n",
    "\n",
    "# Attempting to change an element in the tuple\n",
    "try:\n",
    "    my_tuple[1] = 99  # This will raise a TypeError because tuples are immutable\n",
    "except TypeError as e:\n",
    "    print(\"Error with Tuple:\", e)\n",
    "Output:\n",
    "\n",
    "Copy the code\n",
    "Modified List: [10, 99, 30]\n",
    "Error with Tuple: 'tuple' object does not support item assignment\n",
    "Explanation:\n",
    "Lists are mutable, so you can modify their elements directly.\n",
    "Tuples are immutable, meaning their elements cannot be changed after creation. Attempting to do so raises a TypeError."
   ]
  },
  {
   "cell_type": "markdown",
   "id": "a477df63-e74f-4477-83b7-b0d9b7ce9df8",
   "metadata": {},
   "source": [
    "\n"
   ]
  },
  {
   "cell_type": "raw",
   "id": "63334256-004d-4805-aa04-610ce94128f6",
   "metadata": {},
   "source": [
    "q6 write a function to demonstrate the behaviour of mutable and immutable arguments?"
   ]
  },
  {
   "cell_type": "code",
   "execution_count": 12,
   "id": "a55cd0e3-1076-4d6f-bcef-11ef85fd1d5f",
   "metadata": {},
   "outputs": [
    {
     "name": "stdout",
     "output_type": "stream",
     "text": [
      "modify list: [1, 2, 3]\n"
     ]
    },
    {
     "ename": "NameError",
     "evalue": "name 'mn' is not defined",
     "output_type": "error",
     "traceback": [
      "\u001b[1;31m---------------------------------------------------------------------------\u001b[0m",
      "\u001b[1;31mNameError\u001b[0m                                 Traceback (most recent call last)",
      "Cell \u001b[1;32mIn[12], line 11\u001b[0m\n\u001b[0;32m      9\u001b[0m \u001b[38;5;28mprint\u001b[39m(\u001b[38;5;124m\"\u001b[39m\u001b[38;5;124mmodify list:\u001b[39m\u001b[38;5;124m\"\u001b[39m,mylist)\n\u001b[0;32m     10\u001b[0m nnum\u001b[38;5;241m=\u001b[39m\u001b[38;5;241m10\u001b[39m\n\u001b[1;32m---> 11\u001b[0m newnum\u001b[38;5;241m=\u001b[39mmn(nnum)\n\u001b[0;32m     12\u001b[0m \u001b[38;5;28mprint\u001b[39m(\u001b[38;5;124m\"\u001b[39m\u001b[38;5;124moriginalnumber:\u001b[39m\u001b[38;5;124m\"\u001b[39m,num)\n\u001b[0;32m     13\u001b[0m \u001b[38;5;28mprint\u001b[39m(\u001b[38;5;124m\"\u001b[39m\u001b[38;5;124mreturn number:\u001b[39m\u001b[38;5;124m\"\u001b[39m,newnum)\n",
      "\u001b[1;31mNameError\u001b[0m: name 'mn' is not defined"
     ]
    }
   ],
   "source": [
    "def demonstrate_mutable_immutable():\n",
    "    # Immutable argument example (e.g., integers, strings, tuples)\n",
    "    def modify_immutable(arg):\n",
    "        print(f\"Before modification (immutable): {arg}\")\n",
    "        arg += 10  # This creates a new object, doesn't modify the original\n",
    "        print(f\"After modification (immutable): {arg}\")\n",
    "\n",
    "    # Mutable argument example (e.g., lists, dictionaries)\n",
    "    def modify_mutable(arg):\n",
    "        print(f\"Before modification (mutable): {arg}\")\n",
    "        arg.append(10)  # This modifies the original object\n",
    "        print(f\"After modification (mutable): {arg}\")\n",
    "\n",
    "    # Immutable example\n",
    "    immutable_value = 5\n",
    "    print(\"Immutable Example:\")\n",
    "    modify_immutable(immutable_value)\n",
    "    print(f\"Original value after function call (immutable): {immutable_value}\\n\")\n",
    "\n",
    "    # Mutable example\n",
    "    mutable_value = [1, 2, 3]\n",
    "    print(\"Mutable Example:\")\n",
    "    modify_mutable(mutable_value)\n",
    "    print(f\"Original value after function call (mutable): {mutable_value}\")\n",
    "\n",
    "# Call the function to see the behavior\n",
    "demonstrate_mutable_immutable()\n",
    "Explanation:\n",
    "Immutable Argument:\n",
    "\n",
    "When you pass an immutable object (like an integer) to a function, any modification creates a new object, leaving the original object unchanged.\n",
    "In the example, arg += 10 creates a new integer object, so the original immutable_value remains unaffected.\n",
    "Mutable Argument:\n",
    "\n",
    "When you pass a mutable object (like a list) to a function, modifications affect the original object because the function operates on the same reference.\n",
    "In the example, arg.append(10) modifies the original list mutable_value.\n",
    "Output:\n",
    "\n",
    "Copy the code\n",
    "Immutable Example:\n",
    "Before modification (immutable): 5\n",
    "After modification (immutable): 15\n",
    "Original value after function call (immutable): 5\n",
    "\n",
    "Mutable Example:\n",
    "Before modification (mutable): [1, 2, 3]\n",
    "After modification (mutable): [1, 2, 3, 10]\n",
    "Original value after function call (mutable): [1, 2, 3, 10]\n"
   ]
  },
  {
   "cell_type": "raw",
   "id": "3aac2106-b16e-4565-bf76-ca65e30fbb01",
   "metadata": {},
   "source": [
    "q7 write a python program that performe basic arithmatic opreation on two user iput"
   ]
  },
  {
   "cell_type": "code",
   "execution_count": null,
   "id": "aaf4c537-3376-4a76-9080-220ffe74c69b",
   "metadata": {},
   "outputs": [],
   "source": [
    "# Basic Arithmetic Operations Program\n",
    "\n",
    "# Get user input for two numbers\n",
    "num1 = float(input(\"Enter the first number: \"))\n",
    "num2 = float(input(\"Enter the second number: \"))\n",
    "\n",
    "# Get user input for the operation\n",
    "print(\"Choose an operation: +, -, *, /\")\n",
    "operation = input(\"Enter the operation: \")\n",
    "\n",
    "# Perform the chosen operation\n",
    "if operation == '+':\n",
    "    result = num1 + num2\n",
    "    print(f\"The result of {num1} + {num2} is {result}\")\n",
    "elif operation == '-':\n",
    "    result = num1 - num2\n",
    "    print(f\"The result of {num1} - {num2} is {result}\")\n",
    "elif operation == '*':\n",
    "    result = num1 * num2\n",
    "    print(f\"The result of {num1} * {num2} is {result}\")\n",
    "elif operation == '/':\n",
    "    if num2 != 0:\n",
    "        result = num1 / num2\n",
    "        print(f\"The result of {num1} / {num2} is {result}\")\n",
    "    else:\n",
    "        print(\"Error: Division by zero is not allowed.\")\n",
    "else:\n",
    "    print(\"Invalid operation. Please choose +, -, *, or /.\")\n"
   ]
  },
  {
   "cell_type": "raw",
   "id": "5aa81eef-01b1-4228-8eab-95d3b5b102b2",
   "metadata": {},
   "source": [
    "q8 write a program to demonstrate the use of logical opreator?"
   ]
  },
  {
   "cell_type": "code",
   "execution_count": null,
   "id": "ece233c5-99bd-420e-90ef-46e1be02c36a",
   "metadata": {},
   "outputs": [],
   "source": [
    "# Program to demonstrate the use of logical operators\n",
    "\n",
    "# Input from the user\n",
    "age = int(input(\"Enter your age: \"))\n",
    "is_student = input(\"Are you a student? (yes/no): \").strip().lower() == \"yes\"\n",
    "\n",
    "# Using 'and' operator\n",
    "if age >= 18 and age <= 25:\n",
    "    print(\"You are eligible for the youth discount.\")\n",
    "\n",
    "# Using 'or' operator\n",
    "if is_student or age < 18:\n",
    "    print(\"You are eligible for the student/child discount.\")\n",
    "\n",
    "# Using 'not' operator\n",
    "if not is_student:\n",
    "    print(\"You are not a student.\")\n",
    "else:\n",
    "    print(\"You are a student.\")\n"
   ]
  },
  {
   "cell_type": "raw",
   "id": "256302a6-cf4f-4a9b-918a-e1608a8a87ec",
   "metadata": {},
   "source": [
    "q9 write a python program to convert user input from string to integer,float and boolean types?"
   ]
  },
  {
   "cell_type": "raw",
   "id": "685cd78b-e2cf-4d86-935b-0ab33d8c5d9c",
   "metadata": {},
   "source": [
    "# Get user input as a string\n",
    "user_input = input(\"Enter a value: \")\n",
    "\n",
    "# Convert to integer\n",
    "try:\n",
    "    int_value = int(user_input)\n",
    "    print(f\"Integer value: {int_value}\")\n",
    "except ValueError:\n",
    "    print(\"Cannot convert to integer.\")\n",
    "\n",
    "# Convert to float\n",
    "try:\n",
    "    float_value = float(user_input)\n",
    "    print(f\"Float value: {float_value}\")\n",
    "except ValueError:\n",
    "    print(\"Cannot convert to float.\")\n",
    "\n",
    "# Convert to boolean\n",
    "# Any non-empty string except \"0\" (or \"False\") is considered True\n",
    "bool_value = user_input.lower() not in [\"\", \"0\", \"false\"]\n",
    "print(f\"Boolean value: {bool_value}\")\n"
   ]
  },
  {
   "cell_type": "code",
   "execution_count": null,
   "id": "d819c6c2-d8c1-40eb-ba04-9c88bc237cb2",
   "metadata": {},
   "outputs": [],
   "source": [
    "q 10  write a code to demonstrate typecasting with list element?"
   ]
  },
  {
   "cell_type": "code",
   "execution_count": null,
   "id": "23db6b55-7d14-4641-a0cb-ca1341bd46fe",
   "metadata": {},
   "outputs": [],
   "source": [
    "# Original list with mixed data types\n",
    "mixed_list = [\"1\", \"2\", \"3\", 4, 5.5, \"6.7\"]\n",
    "\n",
    "# Typecasting elements to integers (where possible)\n",
    "int_list = []\n",
    "for item in mixed_list:\n",
    "    try:\n",
    "        int_list.append(int(float(item)))  # Convert to float first to handle strings like \"6.7\"\n",
    "    except ValueError:\n",
    "        print(f\"Cannot convert '{item}' to an integer.\")\n",
    "\n",
    "print(\"Original List:\", mixed_list)\n",
    "print(\"List after typecasting to integers:\", int_list)\n",
    "\n",
    "# Typecasting elements to strings\n",
    "str_list = [str(item) for item in mixed_list]\n",
    "print(\"List after typecasting to strings:\", str_list)\n",
    "\n",
    "# Typecasting elements to floats (where possible)\n",
    "float_list = []\n",
    "for item in mixed_list:\n",
    "    try:\n",
    "        float_list.append(float(item))\n",
    "    except ValueError:\n",
    "        print(f\"Cannot convert '{item}' to a float.\")\n",
    "\n",
    "print(\"List after typecasting to floats:\", float_list)\n"
   ]
  },
  {
   "cell_type": "raw",
   "id": "6f8b6136-e82b-4e29-90e5-61ad458e65f1",
   "metadata": {},
   "source": [
    "q11 write a progrme that check if a number. is positive ,negative or zero?"
   ]
  },
  {
   "cell_type": "code",
   "execution_count": null,
   "id": "59292bba-837b-487f-ab78-e80340a5644a",
   "metadata": {},
   "outputs": [],
   "source": [
    "# Program to check if a number is positive, negative, or zero\n",
    "\n",
    "# Input from the user\n",
    "number = float(input(\"Enter a number: \"))\n",
    "\n",
    "# Check the conditions\n",
    "if number > 0:\n",
    "    print(\"The number is positive.\")\n",
    "elif number < 0:\n",
    "    print(\"The number is negative.\")\n",
    "else:\n",
    "    print(\"The number is zero.\")\n"
   ]
  },
  {
   "cell_type": "raw",
   "id": "c57c3b75-c074-49de-b1a1-42c8a3efb439",
   "metadata": {},
   "source": [
    "q12 write a for loop to print number 1to 10?"
   ]
  },
  {
   "cell_type": "code",
   "execution_count": null,
   "id": "4e1e8173-3310-4c1d-b4ba-2c2138008141",
   "metadata": {},
   "outputs": [],
   "source": [
    "# Using a for loop to print numbers from 1 to 10\n",
    "for number in range(1, 11):  # range(1, 11) generates numbers from 1 to 10\n",
    "    print(number)\n"
   ]
  },
  {
   "cell_type": "raw",
   "id": "4da184dd-a1ea-4034-8ef4-58b1f201d314",
   "metadata": {},
   "source": [
    "q13 write a python program to find a sum of all evenumbers between 1 to 50?"
   ]
  },
  {
   "cell_type": "code",
   "execution_count": null,
   "id": "beceeb22-5742-4416-a2cd-7516a03a2cb6",
   "metadata": {},
   "outputs": [],
   "source": [
    "# Initialize the sum variable\n",
    "sum_of_evens = 0\n",
    "\n",
    "# Loop through numbers from 1 to 50\n",
    "for number in range(1, 51):\n",
    "    # Check if the number is even\n",
    "    if number % 2 == 0:\n",
    "        sum_of_evens += number\n",
    "\n",
    "# Print the result\n",
    "print(\"The sum of all even numbers between 1 and 50 is:\", sum_of_evens)\n"
   ]
  },
  {
   "cell_type": "raw",
   "id": "f3c7d632-90c1-4703-ba5c-4abbb80f4a59",
   "metadata": {},
   "source": [
    "q14  write a python program to reverse the string using a while loop?"
   ]
  },
  {
   "cell_type": "code",
   "execution_count": null,
   "id": "43f848b4-6699-4ba2-a775-dd9865c6ec6d",
   "metadata": {},
   "outputs": [],
   "source": [
    "# Function to reverse a string using a while loop\n",
    "def reverse_string(input_string):\n",
    "    reversed_string = \"\"\n",
    "    index = len(input_string) - 1  # Start from the last character\n",
    "\n",
    "    while index >= 0:\n",
    "        reversed_string += input_string[index]  # Append the character to the result\n",
    "        index -= 1  # Move to the previous character\n",
    "\n",
    "    return reversed_string\n",
    "\n",
    "# Example usage\n",
    "original_string = \"Hello, World!\"\n",
    "reversed_result = reverse_string(original_string)\n",
    "print(\"Original String:\", original_string)\n",
    "print(\"Reversed String:\", reversed_result)\n"
   ]
  },
  {
   "cell_type": "raw",
   "id": "93ad9613-7718-4577-9f9e-ddea24b9ec8e",
   "metadata": {},
   "source": [
    "q15  write a python program to calculate the factorial of a number provided by the user using the while loop?"
   ]
  },
  {
   "cell_type": "code",
   "execution_count": null,
   "id": "9f78dbea-8d32-4cce-a983-fc1159b78f49",
   "metadata": {},
   "outputs": [],
   "source": [
    "# Program to calculate the factorial of a number using a while loop\n",
    "\n",
    "# Get input from the user\n",
    "number = int(input(\"Enter a non-negative integer: \"))\n",
    "\n",
    "# Ensure the input is valid\n",
    "if number < 0:\n",
    "    print(\"Factorial is not defined for negative numbers.\")\n",
    "else:\n",
    "    factorial = 1\n",
    "    i = 1\n",
    "\n",
    "    # Calculate factorial using a while loop\n",
    "    while i <= number:\n",
    "        factorial *= i\n",
    "        i += 1\n",
    "\n",
    "    # Display the result\n",
    "    print(f\"The factorial of {number} is {factorial}.\")\n"
   ]
  },
  {
   "cell_type": "raw",
   "id": "ef7f3b75-5760-4270-affe-2c5632a03647",
   "metadata": {},
   "source": [
    "completed----------------------------------------------------------------------------------------------------------------------"
   ]
  }
 ],
 "metadata": {
  "kernelspec": {
   "display_name": "Python 3 (ipykernel)",
   "language": "python",
   "name": "python3"
  },
  "language_info": {
   "codemirror_mode": {
    "name": "ipython",
    "version": 3
   },
   "file_extension": ".py",
   "mimetype": "text/x-python",
   "name": "python",
   "nbconvert_exporter": "python",
   "pygments_lexer": "ipython3",
   "version": "3.12.7"
  }
 },
 "nbformat": 4,
 "nbformat_minor": 5
}
